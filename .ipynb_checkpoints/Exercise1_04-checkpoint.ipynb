{
 "cells": [
  {
   "cell_type": "markdown",
   "metadata": {},
   "source": [
    "# Exercise 1.04: Tic-Tac-Toe Static Evaluation with a Heuristic Function\n",
    "In this exercise, you will be performing a static evaluation on the tic-tac-toe game using a heuristic function."
   ]
  },
  {
   "cell_type": "markdown",
   "metadata": {},
   "source": [
    "1.- Reuse the code from Steps 1–5 of Activity 1.01"
   ]
  },
  {
   "cell_type": "code",
   "execution_count": null,
   "metadata": {},
   "outputs": [],
   "source": [
    "from random import choice\n",
    "\n",
    "indices = [[0,1,2],[3,4,5],[6,7,8],[0, 3, 6],[1, 4, 7],[2, 5, 8],[0, 4, 8],[2, 4, 6]]\n",
    "\n",
    "EMPTY_SIGN = '.'\n",
    "AI_SIGN = 'X'\n",
    "OPPONENT_SIGN = 'O'\n",
    "\n",
    "\n",
    "def game_won_by(board):\n",
    "    for index in indices:\n",
    "        if board[index[0]] == board[index[1]] == board[index[2]] != EMPTY_SIGN:\n",
    "            return board[index[0]]\n",
    "    return EMPTY_SIGN\n",
    "\n",
    "\n",
    "def all_moves_from_board(board, sign):\n",
    "    move_list = []\n",
    "    for i, v in enumerate(board):\n",
    "        if v == EMPTY_SIGN:\n",
    "            move_list.append(board[:i] + sign + board[i+1:])\n",
    "    return move_list    \n"
   ]
  },
  {
   "cell_type": "markdown",
   "metadata": {},
   "source": [
    "2.- Create a function that takes the board as input and returns $0$ if the cell is empty, and $-1$ if it's not empty"
   ]
  },
  {
   "cell_type": "code",
   "execution_count": null,
   "metadata": {},
   "outputs": [],
   "source": []
  },
  {
   "cell_type": "markdown",
   "metadata": {},
   "source": [
    "3.- Create a function that takes the utility vector of possible moves, takes three indices inside the utility vector representing a triple, and returns a function.\n",
    "\n",
    "  > **Hints**  \n",
    "  > the returned function will expect a `points` parameter and the `utilities` vector as input and will add points to each cell in $(i, j, k)$, as long as the original value of that cell is non-negative $(>=0)$. In other words, we increased the utility of empty cells only."
   ]
  },
  {
   "cell_type": "code",
   "execution_count": null,
   "metadata": {},
   "outputs": [],
   "source": [
    "def init_utility_matrix(board):\n",
    "    return [0 if cell == EMPTY_SIGN else -1 for cell in board]\n",
    "def generate_add_score(utilities, i, j, k):\n",
    "    \n",
    "    def add_score(points):\n",
    "        if utilities[i] >= 0:\n",
    "            utilities[i] += points\n",
    "        if utilities[j] >= 0:\n",
    "            utilities[j] += points\n",
    "        if utilities[k] >= 0:\n",
    "            utilities[k] += points\n",
    "            return add_score"
   ]
  },
  {
   "cell_type": "markdown",
   "metadata": {},
   "source": [
    "4.- Now, create the utility matrix belonging to any board constellation where you will add the `generate_add_score` function defined previously to update the score. You will also implement the rules that we discussed prior to this activity. These rules are as follows:\n",
    "  * Two AI signs in a row, column, or diagonal, and the third cell is empty: +1000 for the empty cell.\n",
    "  * The opponent has two signs in a row, column, or diagonal, and the third cell is empty: +100 for the empty cell.\n",
    "  * One AI sign in a row, column, or diagonal, and the other two cells are empty: +10 for the empty cells.\n",
    "  * No AI or opponent signs in a row, column, or diagonal: +1 for the empty cells."
   ]
  },
  {
   "cell_type": "code",
   "execution_count": null,
   "metadata": {},
   "outputs": [],
   "source": [
    "def utility_matrix(board):\n",
    "\n",
    "    utilities = init_utility_matrix(board)\n",
    "\n",
    "    for [i, j, k] in combo_indices:\n",
    "\n",
    "        add_score = generate_add_score(utilities, i, j, k)\n",
    "\n",
    "        triple = [board[i], board[j], board[k]]\n",
    "\n",
    "        if triple.count(EMPTY_SIGN) == 1:\n",
    "\n",
    "            if triple.count(AI_SIGN) == 2:\n",
    "\n",
    "                add_score(1000)\n",
    "\n",
    "            elif triple.count(OPPONENT_SIGN) == 2:\n",
    "\n",
    "                add_score(100)\n",
    "\n",
    "        elif triple.count(EMPTY_SIGN) == 2 and triple.count(AI_SIGN) == 1:\n",
    "\n",
    "            add_score(10)\n",
    "\n",
    "        elif triple.count(EMPTY_SIGN) == 3:\n",
    "\n",
    "            add_score(1)\n",
    "\n",
    "    return utilities\n",
    "\n"
   ]
  },
  {
   "cell_type": "markdown",
   "metadata": {},
   "source": [
    "5.- Create a function that selects the move with the highest utility value. If multiple moves have the same utility, the function returns both moves"
   ]
  },
  {
   "cell_type": "code",
   "execution_count": null,
   "metadata": {},
   "outputs": [],
   "source": [
    "def best_moves_from_board(board, sign):\n",
    "\n",
    "    move_list = []\n",
    "\n",
    "    utilities = utility_matrix(board)\n",
    "\n",
    "    max_utility = max(utilities)\n",
    "\n",
    "    for i, v in enumerate(board):\n",
    "\n",
    "        if utilities[i] == max_utility:\n",
    "\n",
    "            move_list.append(board[:i] + sign + board[i+1:])\n",
    "\n",
    "    return move_list\n",
    "\n",
    "def all_moves_from_board_list(board_list, sign):\n",
    "\n",
    "    move_list = []\n",
    "\n",
    "    get_moves = best_moves_from_board if sign == AI_SIGN else all_moves_from_board\n",
    "\n",
    "    for board in board_list:\n",
    "\n",
    "        move_list.extend(get_moves(board, sign))\n",
    "\n",
    "    return move_list\n",
    "\n"
   ]
  },
  {
   "cell_type": "markdown",
   "metadata": {},
   "source": [
    "6.- Run the application.\n",
    "\n",
    "Output:\n",
    "\n",
    "```\n",
    "step 0. Moves: 1\n",
    "step 1. Moves: 1\n",
    "step 2. Moves: 8\n",
    "step 3. Moves: 24\n",
    "step 4. Moves: 144\n",
    "step 5. Moves: 83\n",
    "step 6. Moves: 214\n",
    "step 7. Moves: 148\n",
    "step 8. Moves: 172\n",
    "First player wins: 504\n",
    "Second player wins: 12\n",
    "Draw 91\n",
    "Total 607\n",
    "```"
   ]
  },
  {
   "cell_type": "code",
   "execution_count": 1,
   "metadata": {},
   "outputs": [
    {
     "ename": "NameError",
     "evalue": "name 'count_possibilities' is not defined",
     "output_type": "error",
     "traceback": [
      "\u001b[1;31m---------------------------------------------------------------------------\u001b[0m",
      "\u001b[1;31mNameError\u001b[0m                                 Traceback (most recent call last)",
      "\u001b[1;32m<ipython-input-1-a0455a8fd8e6>\u001b[0m in \u001b[0;36m<module>\u001b[1;34m\u001b[0m\n\u001b[1;32m----> 1\u001b[1;33m \u001b[0mcount_possibilities\u001b[0m\u001b[1;33m(\u001b[0m\u001b[1;33m)\u001b[0m\u001b[1;33m\u001b[0m\u001b[1;33m\u001b[0m\u001b[0m\n\u001b[0m",
      "\u001b[1;31mNameError\u001b[0m: name 'count_possibilities' is not defined"
     ]
    }
   ],
   "source": [
    "count_possibilities()"
   ]
  },
  {
   "cell_type": "markdown",
   "metadata": {},
   "source": [
    "By completing this exercise, we have observed that the AI is underperforming compared to our previous activity, Activity 1.03, Fixing the First and Second Moves of the AI to Make It Invincible. In this situation, hardcoding the first two moves was better than setting up the heuristic, but this is because we haven't set up the heuristic properly."
   ]
  },
  {
   "cell_type": "code",
   "execution_count": null,
   "metadata": {},
   "outputs": [],
   "source": []
  }
 ],
 "metadata": {
  "kernelspec": {
   "display_name": "Python 3",
   "language": "python",
   "name": "python3"
  },
  "language_info": {
   "codemirror_mode": {
    "name": "ipython",
    "version": 3
   },
   "file_extension": ".py",
   "mimetype": "text/x-python",
   "name": "python",
   "nbconvert_exporter": "python",
   "pygments_lexer": "ipython3",
   "version": "3.8.5"
  }
 },
 "nbformat": 4,
 "nbformat_minor": 4
}
